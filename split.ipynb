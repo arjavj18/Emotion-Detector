{
 "cells": [
  {
   "cell_type": "code",
   "execution_count": 1,
   "metadata": {},
   "outputs": [
    {
     "name": "stdout",
     "output_type": "stream",
     "text": [
      "Moviepy - Running:\n",
      ">>> \"+ \" \".join(cmd)\n",
      "Moviepy - Command successful\n",
      "Moviepy - Running:\n",
      ">>> \"+ \" \".join(cmd)\n",
      "Moviepy - Command successful\n",
      "Moviepy - Running:\n",
      ">>> \"+ \" \".join(cmd)\n",
      "Moviepy - Command successful\n",
      "Moviepy - Running:\n",
      ">>> \"+ \" \".join(cmd)\n",
      "Moviepy - Command successful\n",
      "Moviepy - Running:\n",
      ">>> \"+ \" \".join(cmd)\n",
      "Moviepy - Command successful\n",
      "Moviepy - Running:\n",
      ">>> \"+ \" \".join(cmd)\n",
      "Moviepy - Command successful\n",
      "Moviepy - Running:\n",
      ">>> \"+ \" \".join(cmd)\n",
      "Moviepy - Command successful\n",
      "Video split into 7 segments:\n",
      "/Users/arjiv_admin/Desktop/Emotion_POC/Video Segments/segment_0000.mp4\n",
      "/Users/arjiv_admin/Desktop/Emotion_POC/Video Segments/segment_0001.mp4\n",
      "/Users/arjiv_admin/Desktop/Emotion_POC/Video Segments/segment_0002.mp4\n",
      "/Users/arjiv_admin/Desktop/Emotion_POC/Video Segments/segment_0003.mp4\n",
      "/Users/arjiv_admin/Desktop/Emotion_POC/Video Segments/segment_0004.mp4\n",
      "/Users/arjiv_admin/Desktop/Emotion_POC/Video Segments/segment_0005.mp4\n",
      "/Users/arjiv_admin/Desktop/Emotion_POC/Video Segments/segment_0006.mp4\n"
     ]
    }
   ],
   "source": [
    "#Video Split\n",
    "import os\n",
    "from moviepy.video.io.ffmpeg_tools import ffmpeg_extract_subclip\n",
    "from moviepy.editor import VideoFileClip\n",
    "\n",
    "def split_video(input_path, output_folder, segment_duration):\n",
    "    # Ensure the output folder exists\n",
    "    os.makedirs(output_folder, exist_ok=True)\n",
    "\n",
    "    # Load the video file\n",
    "    video = VideoFileClip(input_path)\n",
    "    video_duration = int(video.duration)\n",
    "    segments = []\n",
    "\n",
    "    # Split the video into segments\n",
    "    for index, start_time in enumerate(range(0, video_duration, segment_duration)):\n",
    "        end_time = min(start_time + segment_duration, video_duration)\n",
    "        segment_filename = os.path.join(output_folder, f\"segment_{index:04d}.mp4\")\n",
    "        ffmpeg_extract_subclip(input_path, start_time, end_time, targetname=segment_filename)\n",
    "        segments.append(segment_filename)\n",
    "    \n",
    "    return segments\n",
    "\n",
    "# Specify the path to your input video file, output folder, and segment duration (15 seconds)\n",
    "input_path = \"/Users/arjiv_admin/Desktop/Emotion_POC/vid/“You Understand?” - short dramatic monologue.mp4\"\n",
    "output_folder = \"/Users/arjiv_admin/Desktop/Emotion_POC/Video Segments\"\n",
    "segment_duration = 15\n",
    "\n",
    "# Call the function to split the video\n",
    "segments = split_video(input_path, output_folder, segment_duration)\n",
    "\n",
    "print(f\"Video split into {len(segments)} segments:\")\n",
    "for segment in segments:\n",
    "    print(segment)\n"
   ]
  },
  {
   "cell_type": "code",
   "execution_count": 2,
   "metadata": {},
   "outputs": [
    {
     "name": "stdout",
     "output_type": "stream",
     "text": [
      "MoviePy - Writing audio in /Users/arjiv_admin/Desktop/Emotion_POC/Audio Segments/segment_0000.mp3\n"
     ]
    },
    {
     "name": "stderr",
     "output_type": "stream",
     "text": [
      "                                                                    "
     ]
    },
    {
     "name": "stdout",
     "output_type": "stream",
     "text": [
      "MoviePy - Done.\n",
      "Converted segment_0000.mp4 to segment_0000.mp3\n"
     ]
    },
    {
     "name": "stderr",
     "output_type": "stream",
     "text": [
      "\r"
     ]
    },
    {
     "name": "stdout",
     "output_type": "stream",
     "text": [
      "MoviePy - Writing audio in /Users/arjiv_admin/Desktop/Emotion_POC/Audio Segments/segment_0001.mp3\n"
     ]
    },
    {
     "name": "stderr",
     "output_type": "stream",
     "text": [
      "                                                                    "
     ]
    },
    {
     "name": "stdout",
     "output_type": "stream",
     "text": [
      "MoviePy - Done.\n",
      "Converted segment_0001.mp4 to segment_0001.mp3\n"
     ]
    },
    {
     "name": "stderr",
     "output_type": "stream",
     "text": [
      "\r"
     ]
    },
    {
     "name": "stdout",
     "output_type": "stream",
     "text": [
      "MoviePy - Writing audio in /Users/arjiv_admin/Desktop/Emotion_POC/Audio Segments/segment_0003.mp3\n"
     ]
    },
    {
     "name": "stderr",
     "output_type": "stream",
     "text": [
      "                                                                    "
     ]
    },
    {
     "name": "stdout",
     "output_type": "stream",
     "text": [
      "MoviePy - Done.\n",
      "Converted segment_0003.mp4 to segment_0003.mp3\n"
     ]
    },
    {
     "name": "stderr",
     "output_type": "stream",
     "text": [
      "\r"
     ]
    },
    {
     "name": "stdout",
     "output_type": "stream",
     "text": [
      "MoviePy - Writing audio in /Users/arjiv_admin/Desktop/Emotion_POC/Audio Segments/segment_0002.mp3\n"
     ]
    },
    {
     "name": "stderr",
     "output_type": "stream",
     "text": [
      "                                                                    "
     ]
    },
    {
     "name": "stdout",
     "output_type": "stream",
     "text": [
      "MoviePy - Done.\n",
      "Converted segment_0002.mp4 to segment_0002.mp3\n"
     ]
    },
    {
     "name": "stderr",
     "output_type": "stream",
     "text": [
      "\r"
     ]
    },
    {
     "name": "stdout",
     "output_type": "stream",
     "text": [
      "MoviePy - Writing audio in /Users/arjiv_admin/Desktop/Emotion_POC/Audio Segments/segment_0006.mp3\n"
     ]
    },
    {
     "name": "stderr",
     "output_type": "stream",
     "text": [
      "                                                        "
     ]
    },
    {
     "name": "stdout",
     "output_type": "stream",
     "text": [
      "MoviePy - Done.\n",
      "Converted segment_0006.mp4 to segment_0006.mp3\n"
     ]
    },
    {
     "name": "stderr",
     "output_type": "stream",
     "text": [
      "\r"
     ]
    },
    {
     "name": "stdout",
     "output_type": "stream",
     "text": [
      "MoviePy - Writing audio in /Users/arjiv_admin/Desktop/Emotion_POC/Audio Segments/segment_0005.mp3\n"
     ]
    },
    {
     "name": "stderr",
     "output_type": "stream",
     "text": [
      "                                                                    "
     ]
    },
    {
     "name": "stdout",
     "output_type": "stream",
     "text": [
      "MoviePy - Done.\n",
      "Converted segment_0005.mp4 to segment_0005.mp3\n"
     ]
    },
    {
     "name": "stderr",
     "output_type": "stream",
     "text": [
      "\r"
     ]
    },
    {
     "name": "stdout",
     "output_type": "stream",
     "text": [
      "MoviePy - Writing audio in /Users/arjiv_admin/Desktop/Emotion_POC/Audio Segments/segment_0004.mp3\n"
     ]
    },
    {
     "name": "stderr",
     "output_type": "stream",
     "text": [
      "                                                                    "
     ]
    },
    {
     "name": "stdout",
     "output_type": "stream",
     "text": [
      "MoviePy - Done.\n",
      "Converted segment_0004.mp4 to segment_0004.mp3\n"
     ]
    },
    {
     "name": "stderr",
     "output_type": "stream",
     "text": [
      "\r"
     ]
    }
   ],
   "source": [
    "#Audio files\n",
    "import os\n",
    "from moviepy.editor import VideoFileClip\n",
    "\n",
    "def convert_videos_to_audio(input_folder, output_folder, audio_format=\"mp3\"):\n",
    "    # Ensure the output folder exists\n",
    "    os.makedirs(output_folder, exist_ok=True)\n",
    "\n",
    "    # List all files in the input folder\n",
    "    files = [f for f in os.listdir(input_folder) if os.path.isfile(os.path.join(input_folder, f))]\n",
    "\n",
    "    for file in files:\n",
    "        if file.endswith(('.mp4', '.mkv', '.avi', '.mov')):  # Add other video formats as needed\n",
    "            video_path = os.path.join(input_folder, file)\n",
    "            audio_filename = os.path.splitext(file)[0] + f\".{audio_format}\"\n",
    "            audio_path = os.path.join(output_folder, audio_filename)\n",
    "            \n",
    "            # Load the video file\n",
    "            video = VideoFileClip(video_path)\n",
    "            # Extract audio and save it\n",
    "            video.audio.write_audiofile(audio_path)\n",
    "\n",
    "            print(f\"Converted {file} to {audio_filename}\")\n",
    "\n",
    "# Specify the path to your input and output folders\n",
    "input_folder = \"/Users/arjiv_admin/Desktop/Emotion_POC/Video Segments\"\n",
    "output_folder = \"/Users/arjiv_admin/Desktop/Emotion_POC/Audio Segments\"\n",
    "\n",
    "# Call the function to convert videos to audio\n",
    "convert_videos_to_audio(input_folder, output_folder)\n"
   ]
  }
 ],
 "metadata": {
  "kernelspec": {
   "display_name": "env",
   "language": "python",
   "name": "python3"
  },
  "language_info": {
   "codemirror_mode": {
    "name": "ipython",
    "version": 3
   },
   "file_extension": ".py",
   "mimetype": "text/x-python",
   "name": "python",
   "nbconvert_exporter": "python",
   "pygments_lexer": "ipython3",
   "version": "3.12.4"
  }
 },
 "nbformat": 4,
 "nbformat_minor": 2
}
